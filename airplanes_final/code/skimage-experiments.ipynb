{
 "cells": [
  {
   "cell_type": "code",
   "execution_count": 1,
   "metadata": {},
   "outputs": [],
   "source": [
    "import numpy as np\n",
    "import pandas as pd\n",
    "import matplotlib.pyplot as plt\n",
    "import pickle\n",
    "import warnings\n",
    "warnings.filterwarnings(\"ignore\", message=\"numpy.ufunc size changed\")\n",
    "from skimage import io, color, transform, feature, measure, data, draw, exposure, filters, graph, morphology, restoration, segmentation, transform, util\n",
    "from my_measures import BinaryClassificationPerformance  \n",
    "from sklearn.model_selection import train_test_split\n",
    "%matplotlib inline"
   ]
  },
  {
   "cell_type": "code",
   "execution_count": 2,
   "metadata": {},
   "outputs": [],
   "source": [
    "ci_path = 'plane_data/cropped_images/' # file path for cropped images for training\n",
    "l_file = 'plane_data/plane_labels.csv' # file path and file name for csv with labels"
   ]
  },
  {
   "cell_type": "code",
   "execution_count": 5,
   "metadata": {},
   "outputs": [],
   "source": [
    "def show_image(image, title=\"Image\", cmap_type=\"gray\") :\n",
    "    plt.imshow(image, cmap=cmap_type)\n",
    "    plt.title(title)\n",
    "    plt.axis(\"off\")\n",
    "    plt.show()"
   ]
  },
  {
   "cell_type": "code",
   "execution_count": 10,
   "metadata": {},
   "outputs": [
    {
     "data": {
      "image/png": "[encoded data removed]",
      "text/plain": [
       "<Figure size 432x288 with 1 Axes>"
      ]
     },
     "metadata": {
      "needs_background": "light"
     },
     "output_type": "display_data"
    }
   ],
   "source": [
    "rocket = data.rocket()\n",
    "dims = (120, 60)\n",
    "downscaled = transform.resize(rocket, (dims[0], dims[1]))\n",
    "show_image(downscaled)"
   ]
  },
  {
   "cell_type": "code",
   "execution_count": 12,
   "metadata": {},
   "outputs": [],
   "source": [
    "hog_image = feature.hog(downscaled, orientations=8, pixels_per_cell=(16,16), cells_per_block=(1, 1), visualize=True, multichannel=True)"
   ]
  },
  {
   "cell_type": "code",
   "execution_count": 13,
   "metadata": {},
   "outputs": [
    {
     "name": "stdout",
     "output_type": "stream",
     "text": [
      "(array([0.47213312, 0.32820906, 0.47213312, 0.34542935, 0.16782427,\n",
      "       0.16516121, 0.22087355, 0.47213312, 0.12471095, 0.02403083,\n",
      "       0.38611635, 0.4850364 , 0.4850364 , 0.4850364 , 0.35906738,\n",
      "       0.00857612, 0.22048926, 0.        , 0.        , 0.        ,\n",
      "       0.1108366 , 0.65817144, 0.65817144, 0.26966731, 0.53945572,\n",
      "       0.20625021, 0.48313173, 0.26347878, 0.21314589, 0.09237583,\n",
      "       0.1365068 , 0.53945572, 0.03453376, 0.02221695, 0.41324424,\n",
      "       0.19615328, 0.51159869, 0.51159869, 0.51159869, 0.06218714,\n",
      "       0.05417819, 0.        , 0.        , 0.        , 0.03649763,\n",
      "       0.43359976, 0.63550134, 0.63550134, 0.54054132, 0.2955586 ,\n",
      "       0.42010553, 0.16909231, 0.2058403 , 0.14854114, 0.24240402,\n",
      "       0.54054132, 0.48531528, 0.35861081, 0.11369003, 0.14762004,\n",
      "       0.07843989, 0.35204489, 0.48531528, 0.48531528, 0.57074269,\n",
      "       0.00664828, 0.02708757, 0.07083475, 0.07115905, 0.10908362,\n",
      "       0.57074269, 0.57074269, 0.54044602, 0.45329422, 0.22606191,\n",
      "       0.1141895 , 0.23177719, 0.2091566 , 0.22079442, 0.54044602,\n",
      "       0.67093702, 0.03196995, 0.01540689, 0.09501774, 0.07461124,\n",
      "       0.04783809, 0.28555889, 0.67093702, 0.60257681, 0.0663609 ,\n",
      "       0.14487971, 0.05735003, 0.06527114, 0.        , 0.49077401,\n",
      "       0.60257681, 0.47551955, 0.47551955, 0.12538158, 0.34054176,\n",
      "       0.26445358, 0.17545943, 0.29871815, 0.47551955, 0.68834745,\n",
      "       0.11471255, 0.05190283, 0.04933208, 0.07348903, 0.03349645,\n",
      "       0.16597107, 0.68834745, 0.59230044, 0.05034441, 0.04188198,\n",
      "       0.09494128, 0.05085096, 0.14363676, 0.51170355, 0.59230044,\n",
      "       0.45942005, 0.23360772, 0.36603151, 0.24508891, 0.40238298,\n",
      "       0.10360239, 0.39572806, 0.45942005, 0.69589113, 0.10308675,\n",
      "       0.06292661, 0.04113566, 0.04976121, 0.0367464 , 0.10661059,\n",
      "       0.69589113, 0.60748391, 0.27550783, 0.18611613, 0.04747793,\n",
      "       0.01170348, 0.15351349, 0.35415435, 0.60748391, 0.35463125,\n",
      "       0.35463125, 0.34591438, 0.35463125, 0.35463125, 0.35463125,\n",
      "       0.35463125, 0.35463125, 0.63654365, 0.26965591, 0.16213079,\n",
      "       0.07143019, 0.10597025, 0.21614338, 0.16605337, 0.63654365,\n",
      "       0.41331774, 0.41331774, 0.26292606, 0.26925873, 0.0648989 ,\n",
      "       0.41331774, 0.41331774, 0.41331774]), array([[0., 0., 0., ..., 0., 0., 0.],\n",
      "       [0., 0., 0., ..., 0., 0., 0.],\n",
      "       [0., 0., 0., ..., 0., 0., 0.],\n",
      "       ...,\n",
      "       [0., 0., 0., ..., 0., 0., 0.],\n",
      "       [0., 0., 0., ..., 0., 0., 0.],\n",
      "       [0., 0., 0., ..., 0., 0., 0.]]))\n"
     ]
    }
   ],
   "source": [
    "print(hog_image)"
   ]
  },
  {
   "cell_type": "code",
   "execution_count": null,
   "metadata": {},
   "outputs": [],
   "source": []
  }
 ],
 "metadata": {
  "kernelspec": {
   "display_name": "Python 3",
   "language": "python",
   "name": "python3"
  },
  "language_info": {
   "codemirror_mode": {
    "name": "ipython",
    "version": 3
   },
   "file_extension": ".py",
   "mimetype": "text/x-python",
   "name": "python",
   "nbconvert_exporter": "python",
   "pygments_lexer": "ipython3",
   "version": "3.7.4"
  },
  "toc": {
   "base_numbering": 1,
   "nav_menu": {},
   "number_sections": false,
   "sideBar": false,
   "skip_h1_title": false,
   "title_cell": "Table of Contents",
   "title_sidebar": "Contents",
   "toc_cell": false,
   "toc_position": {},
   "toc_section_display": false,
   "toc_window_display": false
  }
 },
 "nbformat": 4,
 "nbformat_minor": 2
}
